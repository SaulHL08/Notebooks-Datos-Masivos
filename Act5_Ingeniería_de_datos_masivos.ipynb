{
  "nbformat": 4,
  "nbformat_minor": 0,
  "metadata": {
    "colab": {
      "provenance": [],
      "mount_file_id": "1jgu13RmRuI_Ihlu16Wjjk7HNLA88CSIv",
      "authorship_tag": "ABX9TyPMQgEKDLG5zWexR8sBfLM4",
      "include_colab_link": true
    },
    "kernelspec": {
      "name": "python3",
      "display_name": "Python 3"
    },
    "language_info": {
      "name": "python"
    }
  },
  "cells": [
    {
      "cell_type": "markdown",
      "metadata": {
        "id": "view-in-github",
        "colab_type": "text"
      },
      "source": [
        "<a href=\"https://colab.research.google.com/github/SaulHL08/Notebooks-Datos-Masivos/blob/main/Act5_Ingenier%C3%ADa_de_datos_masivos.ipynb\" target=\"_parent\"><img src=\"https://colab.research.google.com/assets/colab-badge.svg\" alt=\"Open In Colab\"/></a>"
      ]
    },
    {
      "cell_type": "code",
      "execution_count": null,
      "metadata": {
        "colab": {
          "base_uri": "https://localhost:8080/"
        },
        "id": "p6tUvu9EaB2K",
        "outputId": "70a96d15-5d32-4ad5-f07b-46ebee658a6a"
      },
      "outputs": [
        {
          "output_type": "stream",
          "name": "stdout",
          "text": [
            "['.config', 'drive', 'sample_data']\n"
          ]
        }
      ],
      "source": [
        "import os\n",
        "\n",
        "# Obtén el directorio actual\n",
        "current_directory = os.getcwd()\n",
        "\n",
        "# Enumera los archivos en el directorio actual\n",
        "files_in_directory = os.listdir(current_directory)\n",
        "\n",
        "# Imprime la lista de archivos en el directorio actual\n",
        "print(files_in_directory)\n"
      ]
    },
    {
      "cell_type": "code",
      "source": [
        "from google.colab import drive\n",
        "drive.mount('/content/drive')"
      ],
      "metadata": {
        "colab": {
          "base_uri": "https://localhost:8080/"
        },
        "id": "n1PZFQgzbFPu",
        "outputId": "eb1e389e-e3d9-47ab-923e-f6911571033f"
      },
      "execution_count": null,
      "outputs": [
        {
          "output_type": "stream",
          "name": "stdout",
          "text": [
            "Drive already mounted at /content/drive; to attempt to forcibly remount, call drive.mount(\"/content/drive\", force_remount=True).\n"
          ]
        }
      ]
    },
    {
      "cell_type": "code",
      "source": [
        "import pandas as pd\n",
        "\n",
        "# Ruta del archivo CSV\n",
        "file_path = '/content/drive/MyDrive/adult.csv'\n",
        "\n",
        "# Leer el archivo CSV en un DataFrame de pandas\n",
        "df = pd.read_csv(file_path)\n",
        "\n",
        "# Mostrar las primeras filas del DataFrame para verificar la carga de datos\n",
        "print(df.head())"
      ],
      "metadata": {
        "colab": {
          "base_uri": "https://localhost:8080/"
        },
        "id": "6GW_aeh6ML-q",
        "outputId": "364d9dac-33f9-412c-9c08-d94a024ddd18"
      },
      "execution_count": null,
      "outputs": [
        {
          "output_type": "stream",
          "name": "stdout",
          "text": [
            "   age         workclass  fnlwgt  education  education_num  \\\n",
            "0   39         State-gov   77516  Bachelors             13   \n",
            "1   50  Self-emp-not-inc   83311  Bachelors             13   \n",
            "2   38           Private  215646    HS-grad              9   \n",
            "3   53           Private  234721       11th              7   \n",
            "4   28           Private  338409  Bachelors             13   \n",
            "\n",
            "       marital_status         occupation   relationship   race     sex  \\\n",
            "0       Never-married       Adm-clerical  Not-in-family  White    Male   \n",
            "1  Married-civ-spouse    Exec-managerial        Husband  White    Male   \n",
            "2            Divorced  Handlers-cleaners  Not-in-family  White    Male   \n",
            "3  Married-civ-spouse  Handlers-cleaners        Husband  Black     NaN   \n",
            "4  Married-civ-spouse     Prof-specialty           Wife  Black  Female   \n",
            "\n",
            "   capital_gain  capital_loss  hours_per_week native_country income  \n",
            "0          2174             0              40  United-States  <=50K  \n",
            "1             0             0              13  United-States  <=50K  \n",
            "2             0             0              40  United-States  <=50K  \n",
            "3             0             0              40  United-States  <=50K  \n",
            "4             0             0              40           Cuba  <=50K  \n"
          ]
        }
      ]
    },
    {
      "cell_type": "code",
      "source": [
        "import pandas as pd\n",
        "from sklearn.model_selection import train_test_split\n",
        "from sklearn.ensemble import RandomForestClassifier\n",
        "from sklearn.metrics import accuracy_score, classification_report\n",
        "import category_encoders as ce\n",
        "\n",
        "# Cargar el archivo CSV\n",
        "file_path = '/content/drive/MyDrive/adult.csv'\n",
        "df = pd.read_csv(file_path, na_values=['N/A'])\n",
        "\n",
        "# Eliminar filas con valores faltantes\n",
        "df.dropna(inplace=True)\n",
        "\n",
        "# Realizar codificación ordinal para la columna 'sex'\n",
        "encoder = ce.OrdinalEncoder(cols=['sex'], mapping=[{'col': 'sex', 'mapping': {'Female': 0, 'Male': 1}}])\n",
        "df = encoder.fit_transform(df)\n",
        "\n",
        "# Realizar codificación one-hot para otras columnas categóricas\n",
        "categorical_columns = ['workclass', 'education', 'marital_status', 'occupation', 'relationship', 'race', 'native_country']\n",
        "df = pd.get_dummies(df, columns=categorical_columns)\n",
        "\n",
        "# Mapear los valores de la columna 'income'\n",
        "income_mapping = {'<=50K': 'Female', '>50K': 'Male'}\n",
        "df['income'] = df['income'].map(income_mapping)\n",
        "\n",
        "# Dividir el conjunto de datos en características y la variable objetivo\n",
        "X = df.drop(['income'], axis=1)\n",
        "y = df['income']\n",
        "\n",
        "# Dividir el conjunto de datos en conjuntos de entrenamiento y prueba\n",
        "X_train, X_test, y_train, y_test = train_test_split(X, y, test_size=0.2, random_state=42)\n",
        "\n",
        "# Crear y entrenar un modelo (ajusta los hiperparámetros según sea necesario)\n",
        "model = RandomForestClassifier(n_estimators=100, max_depth=10, random_state=42)\n",
        "model.fit(X_train, y_train)\n",
        "\n",
        "# Realizar predicciones en el conjunto de prueba\n",
        "y_pred = model.predict(X_test)\n",
        "\n",
        "# Calcular la precisión del modelo\n",
        "accuracy = accuracy_score(y_test, y_pred)\n",
        "print(f'Precisión del modelo: {accuracy:.2f}')\n",
        "\n",
        "# Mostrar un informe de clasificación con las clases 'Male' y 'Female'\n",
        "report = classification_report(y_test, y_pred, target_names=['Female', 'Male'])\n",
        "print(report)"
      ],
      "metadata": {
        "colab": {
          "base_uri": "https://localhost:8080/"
        },
        "id": "oZr7-d1YbIl2",
        "outputId": "6a6b60b6-a6b2-45bb-ef4a-9dad56fdaeae"
      },
      "execution_count": null,
      "outputs": [
        {
          "output_type": "stream",
          "name": "stdout",
          "text": [
            "Precisión del modelo: 0.84\n",
            "              precision    recall  f1-score   support\n",
            "\n",
            "      Female       0.86      0.94      0.90       637\n",
            "        Male       0.76      0.56      0.64       215\n",
            "\n",
            "    accuracy                           0.84       852\n",
            "   macro avg       0.81      0.75      0.77       852\n",
            "weighted avg       0.84      0.84      0.84       852\n",
            "\n"
          ]
        }
      ]
    },
    {
      "cell_type": "code",
      "source": [
        "import pandas as pd\n",
        "import category_encoders as ce\n",
        "\n",
        "# Cargar el archivo CSV\n",
        "file_path = '/content/drive/MyDrive/adult.csv'\n",
        "df = pd.read_csv(file_path, na_values=['N/A'])\n",
        "\n",
        "# Eliminar filas con valores faltantes\n",
        "df.dropna(inplace=True)\n",
        "\n",
        "# Realizar codificación ordinal solo para la columna 'sex'\n",
        "encoder = ce.OrdinalEncoder(cols=['sex'], mapping=[{'col': 'sex', 'mapping': {'Female': 0, 'Male': 1}}])\n",
        "df['encoded_sex'] = encoder.fit_transform(df)['sex']\n",
        "\n",
        "# Realizar codificación one-hot para otras columnas categóricas\n",
        "categorical_columns = ['workclass', 'education', 'marital_status', 'occupation', 'relationship', 'race', 'native_country']\n",
        "df = pd.get_dummies(df, columns=categorical_columns)\n",
        "\n",
        "# Mapear los valores de la columna 'income'\n",
        "income_mapping = {'<=50K': 'Female', '>50K': 'Male'}\n",
        "df['income'] = df['income'].map(income_mapping)\n",
        "\n",
        "# Crear una tabla que muestre la preparación de datos\n",
        "preparation_table = df[['sex', 'encoded_sex', 'income']]\n",
        "\n",
        "# Mostrar la tabla final\n",
        "print(preparation_table)\n"
      ],
      "metadata": {
        "colab": {
          "base_uri": "https://localhost:8080/"
        },
        "id": "E0c0j9T1gea1",
        "outputId": "d646e0c8-4016-4f1e-a8a2-5c5eae811cc4"
      },
      "execution_count": null,
      "outputs": [
        {
          "output_type": "stream",
          "name": "stdout",
          "text": [
            "         sex  encoded_sex  income\n",
            "0       Male            1  Female\n",
            "1       Male            1  Female\n",
            "2       Male            1  Female\n",
            "4     Female            0  Female\n",
            "5     Female            0  Female\n",
            "...      ...          ...     ...\n",
            "4995  Female            0  Female\n",
            "4996    Male            1    Male\n",
            "4997    Male            1    Male\n",
            "4998    Male            1  Female\n",
            "4999  Female            0  Female\n",
            "\n",
            "[4257 rows x 3 columns]\n"
          ]
        }
      ]
    },
    {
      "cell_type": "code",
      "source": [
        "import pandas as pd\n",
        "import matplotlib.pyplot as plt\n",
        "\n",
        "# Cargar el archivo CSV\n",
        "file_path = '/content/drive/MyDrive/adult.csv'\n",
        "df = pd.read_csv(file_path, na_values=['#NAME?'])\n",
        "\n",
        "# Eliminar filas con valores faltantes\n",
        "df.dropna(inplace=True)\n",
        "\n",
        "# Crear un gráfico de barras para la columna 'sex'\n",
        "sex_counts = df['sex'].value_counts()\n",
        "plt.figure(figsize=(8, 6))\n",
        "plt.bar(sex_counts.index, sex_counts.values, color=['blue', 'pink'])\n",
        "plt.title('Distribución de la columna \"sex\"')\n",
        "plt.xlabel('Sexo')\n",
        "plt.ylabel('Frecuencia')\n",
        "plt.show()"
      ],
      "metadata": {
        "colab": {
          "base_uri": "https://localhost:8080/",
          "height": 564
        },
        "id": "KXjxc1exhqv9",
        "outputId": "82780207-7970-4fd4-abfe-4a8159f121af"
      },
      "execution_count": null,
      "outputs": [
        {
          "output_type": "display_data",
          "data": {
            "text/plain": [
              "<Figure size 800x600 with 1 Axes>"
            ],
            "image/png": "[encoded data removed]"
          },
          "metadata": {}
        }
      ]
    }
  ]
}