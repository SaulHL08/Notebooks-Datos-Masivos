{
  "nbformat": 4,
  "nbformat_minor": 0,
  "metadata": {
    "colab": {
      "provenance": [],
      "include_colab_link": true
    },
    "kernelspec": {
      "name": "python3",
      "display_name": "Python 3"
    },
    "language_info": {
      "name": "python"
    }
  },
  "cells": [
    {
      "cell_type": "markdown",
      "metadata": {
        "id": "view-in-github",
        "colab_type": "text"
      },
      "source": [
        "<a href=\"https://colab.research.google.com/github/SaulHL08/Notebooks-Datos-Masivos/blob/main/Titanic_Data.ipynb\" target=\"_parent\"><img src=\"https://colab.research.google.com/assets/colab-badge.svg\" alt=\"Open In Colab\"/></a>"
      ]
    },
    {
      "cell_type": "code",
      "execution_count": null,
      "metadata": {
        "colab": {
          "base_uri": "https://localhost:8080/"
        },
        "id": "lk4KulvIlCMQ",
        "outputId": "b8a463b4-c8c8-4a96-e332-416bb171fffd"
      },
      "outputs": [
        {
          "output_type": "stream",
          "name": "stdout",
          "text": [
            "El porcentaje de niños que sobrevivieron en el Titanic es: 59.15%\n"
          ]
        }
      ],
      "source": [
        "import pandas as pd\n",
        "\n",
        "# Cargar el archivo titanic.csv en un DataFrame de Pandas\n",
        "df = pd.read_csv('/content/sample_data/titanic.csv')\n",
        "\n",
        "# Filtrar el conjunto de datos para incluir solo a los niños (por ejemplo, menores de 18 años)\n",
        "children = df[df['Age'] < 14]\n",
        "\n",
        "# Calcular el número total de niños\n",
        "total_children = len(children)\n",
        "\n",
        "# Calcular el número de niños que sobrevivieron\n",
        "survived_children = len(children[children['Survived'] == 1])\n",
        "\n",
        "# Calcular el porcentaje de niños que sobrevivieron\n",
        "percentage_survived = (survived_children / total_children) * 100\n",
        "\n",
        "print(f'El porcentaje de niños que sobrevivieron en el Titanic es: {percentage_survived:.2f}%')"
      ]
    },
    {
      "cell_type": "code",
      "source": [
        "# Filtrar el conjunto de datos para incluir solo a los hombres que sobrevivieron\n",
        "men_survived = df[(df['Sex'] == 'male') & (df['Survived'] == 1)]\n",
        "\n",
        "# Calcular el número total de hombres que sobrevivieron\n",
        "total_men_survived = len(men_survived)\n",
        "\n",
        "# Calcular el número de hombres que sobrevivieron en cada clase\n",
        "men_survived_by_class = men_survived.groupby('Pclass')['Survived'].count()\n",
        "\n",
        "# Calcular el porcentaje de hombres que sobrevivieron en cada clase\n",
        "percentage_men_survived_by_class = (men_survived_by_class / total_men_survived) * 100\n",
        "\n",
        "print('El porcentaje de hombres que sobrevivieron en cada clase es:')\n",
        "print(percentage_men_survived_by_class)"
      ],
      "metadata": {
        "colab": {
          "base_uri": "https://localhost:8080/"
        },
        "id": "oPLFTUNNnEX-",
        "outputId": "0c786a54-fb1c-4a00-af2a-0706d9bec442"
      },
      "execution_count": null,
      "outputs": [
        {
          "output_type": "stream",
          "name": "stdout",
          "text": [
            "El porcentaje de hombres que sobrevivieron en cada clase es:\n",
            "Pclass\n",
            "1    41.284404\n",
            "2    15.596330\n",
            "3    43.119266\n",
            "Name: Survived, dtype: float64\n"
          ]
        }
      ]
    },
    {
      "cell_type": "code",
      "source": [
        "# Filtrar el conjunto de datos para incluir solo a los hombres y mujeres que sobrevivieron\n",
        "men_survived = df[(df['Sex'] == 'male') & (df['Survived'] == 1)]\n",
        "women_survived = df[(df['Sex'] == 'female') & (df['Survived'] == 1)]\n",
        "\n",
        "# Calcular el rango de edades de hombres y mujeres que sobrevivieron\n",
        "men_age_range = men_survived['Age'].min(), men_survived['Age'].max()\n",
        "women_age_range = women_survived['Age'].min(), women_survived['Age'].max()\n",
        "\n",
        "print(f'El rango de edades de hombres que sobrevivieron es: {men_age_range}')\n",
        "print(f'El rango de edades de mujeres que sobrevivieron es: {women_age_range}')"
      ],
      "metadata": {
        "colab": {
          "base_uri": "https://localhost:8080/"
        },
        "id": "Fxgrfe0fnWTC",
        "outputId": "b70b5951-777f-490d-fd9c-ab51d740e47c"
      },
      "execution_count": null,
      "outputs": [
        {
          "output_type": "stream",
          "name": "stdout",
          "text": [
            "El rango de edades de hombres que sobrevivieron es: (0.42, 80.0)\n",
            "El rango de edades de mujeres que sobrevivieron es: (0.75, 63.0)\n"
          ]
        }
      ]
    },
    {
      "cell_type": "code",
      "source": [
        "# Filtrar el conjunto de datos para incluir solo a los hombres con hijos que sobrevivieron\n",
        "men_with_children_survived = df[(df['Sex'] == 'male') & (df['Parch'] > 0) & (df['Survived'] == 1)]\n",
        "\n",
        "# Calcular el número de hombres con hijos que sobrevivieron\n",
        "total_men_with_children_survived = len(men_with_children_survived)\n",
        "\n",
        "print(f'El número de hombres con hijos que sobrevivieron en el Titanic es: {total_men_with_children_survived}')"
      ],
      "metadata": {
        "colab": {
          "base_uri": "https://localhost:8080/"
        },
        "id": "j1bvFnz2oB92",
        "outputId": "b6c695b7-8144-4c1b-d64b-62d2fcda5c76"
      },
      "execution_count": null,
      "outputs": [
        {
          "output_type": "stream",
          "name": "stdout",
          "text": [
            "El número de hombres con hijos que sobrevivieron en el Titanic es: 29\n"
          ]
        }
      ]
    },
    {
      "cell_type": "code",
      "source": [
        "# Filtrar el conjunto de datos para incluir solo a las personas que sobrevivieron\n",
        "survived = df[df['Survived'] == 1]\n",
        "\n",
        "# Calcular el número de personas que sobrevivieron en cada clase\n",
        "survived_by_class = survived.groupby('Pclass')['Survived'].count()\n",
        "\n",
        "print('El número de personas que sobrevivieron en cada clase es:')\n",
        "print(survived_by_class)"
      ],
      "metadata": {
        "colab": {
          "base_uri": "https://localhost:8080/"
        },
        "id": "TnpzZNQHokQy",
        "outputId": "20b06ecc-4f78-4ce6-cd0f-28c4b2748e1d"
      },
      "execution_count": null,
      "outputs": [
        {
          "output_type": "stream",
          "name": "stdout",
          "text": [
            "El número de personas que sobrevivieron en cada clase es:\n",
            "Pclass\n",
            "1    136\n",
            "2     87\n",
            "3    119\n",
            "Name: Survived, dtype: int64\n"
          ]
        }
      ]
    }
  ]
}